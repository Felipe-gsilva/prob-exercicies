{
  "metadata": {
    "kernelspec": {
      "name": "python",
      "display_name": "Python (Pyodide)",
      "language": "python"
    },
    "language_info": {
      "codemirror_mode": {
        "name": "python",
        "version": 3
      },
      "file_extension": ".py",
      "mimetype": "text/x-python",
      "name": "python",
      "nbconvert_exporter": "python",
      "pygments_lexer": "ipython3",
      "version": "3.8"
    },
    "colab": {
      "provenance": [],
      "collapsed_sections": [
        "6Jv7ttO1IsCh",
        "7MjZmVUEIsCj",
        "r6bfjfNDLl8B",
        "iC_tFXyxIsCl"
      ],
      "include_colab_link": true
    }
  },
  "nbformat_minor": 0,
  "nbformat": 4,
  "cells": [
    {
      "cell_type": "markdown",
      "metadata": {
        "id": "view-in-github",
        "colab_type": "text"
      },
      "source": [
        "<a href=\"https://colab.research.google.com/github/Felipe-gsilva/prob-exercicies/blob/main/simulado_dupla_vinganco.ipynb\" target=\"_parent\"><img src=\"https://colab.research.google.com/assets/colab-badge.svg\" alt=\"Open In Colab\"/></a>"
      ]
    },
    {
      "cell_type": "code",
      "source": [
        "import pandas as pd\n",
        "import numpy as np\n",
        "import matplotlib.pyplot as plt\n",
        "import scipy.stats as stats"
      ],
      "metadata": {
        "trusted": true,
        "id": "WZZKc2_NIsCc"
      },
      "outputs": [],
      "execution_count": 7
    },
    {
      "cell_type": "markdown",
      "source": [
        "# Gráficos e Csv"
      ],
      "metadata": {
        "id": "6KgXxq3AIsCe"
      }
    },
    {
      "cell_type": "code",
      "source": [
        "# Load the CSV file\n",
        "data = pd.read_csv(\".csv\")\n",
        "\n",
        "n = 6\n",
        "\n",
        "indices = np.arange(len(data))  # Piece indices\n",
        "width = 0.5  # Width of the bars\n",
        "\n",
        "\n",
        "plt.plot(data[\"Máquina A\"], label=\"Máquina A\", marker='o')\n",
        "plt.plot(data[\"Máquina B\"], label=\"Máquina B\", marker='o')\n",
        "plt.show()"
      ],
      "metadata": {
        "trusted": true,
        "id": "yYRGTsdlIsCf",
        "outputId": "ba37aa8d-1e4e-44f5-e11a-8ff6676da65b",
        "colab": {
          "base_uri": "https://localhost:8080/",
          "height": 410
        }
      },
      "outputs": [
        {
          "output_type": "error",
          "ename": "FileNotFoundError",
          "evalue": "[Errno 2] No such file or directory: '.csv'",
          "traceback": [
            "\u001b[0;31m---------------------------------------------------------------------------\u001b[0m",
            "\u001b[0;31mFileNotFoundError\u001b[0m                         Traceback (most recent call last)",
            "\u001b[0;32m<ipython-input-12-9e1b23f65fd0>\u001b[0m in \u001b[0;36m<cell line: 2>\u001b[0;34m()\u001b[0m\n\u001b[1;32m      1\u001b[0m \u001b[0;31m# Load the CSV file\u001b[0m\u001b[0;34m\u001b[0m\u001b[0;34m\u001b[0m\u001b[0m\n\u001b[0;32m----> 2\u001b[0;31m \u001b[0mdata\u001b[0m \u001b[0;34m=\u001b[0m \u001b[0mpd\u001b[0m\u001b[0;34m.\u001b[0m\u001b[0mread_csv\u001b[0m\u001b[0;34m(\u001b[0m\u001b[0;34m\".csv\"\u001b[0m\u001b[0;34m)\u001b[0m\u001b[0;34m\u001b[0m\u001b[0;34m\u001b[0m\u001b[0m\n\u001b[0m\u001b[1;32m      3\u001b[0m \u001b[0;34m\u001b[0m\u001b[0m\n\u001b[1;32m      4\u001b[0m \u001b[0mn\u001b[0m \u001b[0;34m=\u001b[0m \u001b[0;36m6\u001b[0m\u001b[0;34m\u001b[0m\u001b[0;34m\u001b[0m\u001b[0m\n\u001b[1;32m      5\u001b[0m \u001b[0;34m\u001b[0m\u001b[0m\n",
            "\u001b[0;32m/usr/local/lib/python3.10/dist-packages/pandas/io/parsers/readers.py\u001b[0m in \u001b[0;36mread_csv\u001b[0;34m(filepath_or_buffer, sep, delimiter, header, names, index_col, usecols, dtype, engine, converters, true_values, false_values, skipinitialspace, skiprows, skipfooter, nrows, na_values, keep_default_na, na_filter, verbose, skip_blank_lines, parse_dates, infer_datetime_format, keep_date_col, date_parser, date_format, dayfirst, cache_dates, iterator, chunksize, compression, thousands, decimal, lineterminator, quotechar, quoting, doublequote, escapechar, comment, encoding, encoding_errors, dialect, on_bad_lines, delim_whitespace, low_memory, memory_map, float_precision, storage_options, dtype_backend)\u001b[0m\n\u001b[1;32m   1024\u001b[0m     \u001b[0mkwds\u001b[0m\u001b[0;34m.\u001b[0m\u001b[0mupdate\u001b[0m\u001b[0;34m(\u001b[0m\u001b[0mkwds_defaults\u001b[0m\u001b[0;34m)\u001b[0m\u001b[0;34m\u001b[0m\u001b[0;34m\u001b[0m\u001b[0m\n\u001b[1;32m   1025\u001b[0m \u001b[0;34m\u001b[0m\u001b[0m\n\u001b[0;32m-> 1026\u001b[0;31m     \u001b[0;32mreturn\u001b[0m \u001b[0m_read\u001b[0m\u001b[0;34m(\u001b[0m\u001b[0mfilepath_or_buffer\u001b[0m\u001b[0;34m,\u001b[0m \u001b[0mkwds\u001b[0m\u001b[0;34m)\u001b[0m\u001b[0;34m\u001b[0m\u001b[0;34m\u001b[0m\u001b[0m\n\u001b[0m\u001b[1;32m   1027\u001b[0m \u001b[0;34m\u001b[0m\u001b[0m\n\u001b[1;32m   1028\u001b[0m \u001b[0;34m\u001b[0m\u001b[0m\n",
            "\u001b[0;32m/usr/local/lib/python3.10/dist-packages/pandas/io/parsers/readers.py\u001b[0m in \u001b[0;36m_read\u001b[0;34m(filepath_or_buffer, kwds)\u001b[0m\n\u001b[1;32m    618\u001b[0m \u001b[0;34m\u001b[0m\u001b[0m\n\u001b[1;32m    619\u001b[0m     \u001b[0;31m# Create the parser.\u001b[0m\u001b[0;34m\u001b[0m\u001b[0;34m\u001b[0m\u001b[0m\n\u001b[0;32m--> 620\u001b[0;31m     \u001b[0mparser\u001b[0m \u001b[0;34m=\u001b[0m \u001b[0mTextFileReader\u001b[0m\u001b[0;34m(\u001b[0m\u001b[0mfilepath_or_buffer\u001b[0m\u001b[0;34m,\u001b[0m \u001b[0;34m**\u001b[0m\u001b[0mkwds\u001b[0m\u001b[0;34m)\u001b[0m\u001b[0;34m\u001b[0m\u001b[0;34m\u001b[0m\u001b[0m\n\u001b[0m\u001b[1;32m    621\u001b[0m \u001b[0;34m\u001b[0m\u001b[0m\n\u001b[1;32m    622\u001b[0m     \u001b[0;32mif\u001b[0m \u001b[0mchunksize\u001b[0m \u001b[0;32mor\u001b[0m \u001b[0miterator\u001b[0m\u001b[0;34m:\u001b[0m\u001b[0;34m\u001b[0m\u001b[0;34m\u001b[0m\u001b[0m\n",
            "\u001b[0;32m/usr/local/lib/python3.10/dist-packages/pandas/io/parsers/readers.py\u001b[0m in \u001b[0;36m__init__\u001b[0;34m(self, f, engine, **kwds)\u001b[0m\n\u001b[1;32m   1618\u001b[0m \u001b[0;34m\u001b[0m\u001b[0m\n\u001b[1;32m   1619\u001b[0m         \u001b[0mself\u001b[0m\u001b[0;34m.\u001b[0m\u001b[0mhandles\u001b[0m\u001b[0;34m:\u001b[0m \u001b[0mIOHandles\u001b[0m \u001b[0;34m|\u001b[0m \u001b[0;32mNone\u001b[0m \u001b[0;34m=\u001b[0m \u001b[0;32mNone\u001b[0m\u001b[0;34m\u001b[0m\u001b[0;34m\u001b[0m\u001b[0m\n\u001b[0;32m-> 1620\u001b[0;31m         \u001b[0mself\u001b[0m\u001b[0;34m.\u001b[0m\u001b[0m_engine\u001b[0m \u001b[0;34m=\u001b[0m \u001b[0mself\u001b[0m\u001b[0;34m.\u001b[0m\u001b[0m_make_engine\u001b[0m\u001b[0;34m(\u001b[0m\u001b[0mf\u001b[0m\u001b[0;34m,\u001b[0m \u001b[0mself\u001b[0m\u001b[0;34m.\u001b[0m\u001b[0mengine\u001b[0m\u001b[0;34m)\u001b[0m\u001b[0;34m\u001b[0m\u001b[0;34m\u001b[0m\u001b[0m\n\u001b[0m\u001b[1;32m   1621\u001b[0m \u001b[0;34m\u001b[0m\u001b[0m\n\u001b[1;32m   1622\u001b[0m     \u001b[0;32mdef\u001b[0m \u001b[0mclose\u001b[0m\u001b[0;34m(\u001b[0m\u001b[0mself\u001b[0m\u001b[0;34m)\u001b[0m \u001b[0;34m->\u001b[0m \u001b[0;32mNone\u001b[0m\u001b[0;34m:\u001b[0m\u001b[0;34m\u001b[0m\u001b[0;34m\u001b[0m\u001b[0m\n",
            "\u001b[0;32m/usr/local/lib/python3.10/dist-packages/pandas/io/parsers/readers.py\u001b[0m in \u001b[0;36m_make_engine\u001b[0;34m(self, f, engine)\u001b[0m\n\u001b[1;32m   1878\u001b[0m                 \u001b[0;32mif\u001b[0m \u001b[0;34m\"b\"\u001b[0m \u001b[0;32mnot\u001b[0m \u001b[0;32min\u001b[0m \u001b[0mmode\u001b[0m\u001b[0;34m:\u001b[0m\u001b[0;34m\u001b[0m\u001b[0;34m\u001b[0m\u001b[0m\n\u001b[1;32m   1879\u001b[0m                     \u001b[0mmode\u001b[0m \u001b[0;34m+=\u001b[0m \u001b[0;34m\"b\"\u001b[0m\u001b[0;34m\u001b[0m\u001b[0;34m\u001b[0m\u001b[0m\n\u001b[0;32m-> 1880\u001b[0;31m             self.handles = get_handle(\n\u001b[0m\u001b[1;32m   1881\u001b[0m                 \u001b[0mf\u001b[0m\u001b[0;34m,\u001b[0m\u001b[0;34m\u001b[0m\u001b[0;34m\u001b[0m\u001b[0m\n\u001b[1;32m   1882\u001b[0m                 \u001b[0mmode\u001b[0m\u001b[0;34m,\u001b[0m\u001b[0;34m\u001b[0m\u001b[0;34m\u001b[0m\u001b[0m\n",
            "\u001b[0;32m/usr/local/lib/python3.10/dist-packages/pandas/io/common.py\u001b[0m in \u001b[0;36mget_handle\u001b[0;34m(path_or_buf, mode, encoding, compression, memory_map, is_text, errors, storage_options)\u001b[0m\n\u001b[1;32m    871\u001b[0m         \u001b[0;32mif\u001b[0m \u001b[0mioargs\u001b[0m\u001b[0;34m.\u001b[0m\u001b[0mencoding\u001b[0m \u001b[0;32mand\u001b[0m \u001b[0;34m\"b\"\u001b[0m \u001b[0;32mnot\u001b[0m \u001b[0;32min\u001b[0m \u001b[0mioargs\u001b[0m\u001b[0;34m.\u001b[0m\u001b[0mmode\u001b[0m\u001b[0;34m:\u001b[0m\u001b[0;34m\u001b[0m\u001b[0;34m\u001b[0m\u001b[0m\n\u001b[1;32m    872\u001b[0m             \u001b[0;31m# Encoding\u001b[0m\u001b[0;34m\u001b[0m\u001b[0;34m\u001b[0m\u001b[0m\n\u001b[0;32m--> 873\u001b[0;31m             handle = open(\n\u001b[0m\u001b[1;32m    874\u001b[0m                 \u001b[0mhandle\u001b[0m\u001b[0;34m,\u001b[0m\u001b[0;34m\u001b[0m\u001b[0;34m\u001b[0m\u001b[0m\n\u001b[1;32m    875\u001b[0m                 \u001b[0mioargs\u001b[0m\u001b[0;34m.\u001b[0m\u001b[0mmode\u001b[0m\u001b[0;34m,\u001b[0m\u001b[0;34m\u001b[0m\u001b[0;34m\u001b[0m\u001b[0m\n",
            "\u001b[0;31mFileNotFoundError\u001b[0m: [Errno 2] No such file or directory: '.csv'"
          ]
        }
      ],
      "execution_count": 12
    },
    {
      "cell_type": "code",
      "source": [
        "# barras\n",
        "plt.bar(indices - width/2, data[\"Máquina A\"], width, label=\"Máquina A\")\n",
        "plt.bar(indices + width/2, data[\"Máquina B\"], width, label=\"Máquina B\")\n",
        "plt.show()"
      ],
      "metadata": {
        "id": "B4V2oRkMJsTh",
        "outputId": "93380355-45e9-4dd2-a944-9f666f9c95c4",
        "colab": {
          "base_uri": "https://localhost:8080/",
          "height": 231
        }
      },
      "execution_count": 11,
      "outputs": [
        {
          "output_type": "error",
          "ename": "NameError",
          "evalue": "name 'data' is not defined",
          "traceback": [
            "\u001b[0;31m---------------------------------------------------------------------------\u001b[0m",
            "\u001b[0;31mNameError\u001b[0m                                 Traceback (most recent call last)",
            "\u001b[0;32m<ipython-input-11-32a00a1409bf>\u001b[0m in \u001b[0;36m<cell line: 2>\u001b[0;34m()\u001b[0m\n\u001b[1;32m      1\u001b[0m \u001b[0;31m# barras\u001b[0m\u001b[0;34m\u001b[0m\u001b[0;34m\u001b[0m\u001b[0m\n\u001b[0;32m----> 2\u001b[0;31m \u001b[0mindices\u001b[0m \u001b[0;34m=\u001b[0m \u001b[0mnp\u001b[0m\u001b[0;34m.\u001b[0m\u001b[0marange\u001b[0m\u001b[0;34m(\u001b[0m\u001b[0mlen\u001b[0m\u001b[0;34m(\u001b[0m\u001b[0mdata\u001b[0m\u001b[0;34m)\u001b[0m\u001b[0;34m)\u001b[0m  \u001b[0;31m# Piece indices\u001b[0m\u001b[0;34m\u001b[0m\u001b[0;34m\u001b[0m\u001b[0m\n\u001b[0m\u001b[1;32m      3\u001b[0m \u001b[0mwidth\u001b[0m \u001b[0;34m=\u001b[0m \u001b[0;36m0.5\u001b[0m  \u001b[0;31m# Width of the bars\u001b[0m\u001b[0;34m\u001b[0m\u001b[0;34m\u001b[0m\u001b[0m\n\u001b[1;32m      4\u001b[0m \u001b[0;34m\u001b[0m\u001b[0m\n\u001b[1;32m      5\u001b[0m \u001b[0mplt\u001b[0m\u001b[0;34m.\u001b[0m\u001b[0mbar\u001b[0m\u001b[0;34m(\u001b[0m\u001b[0mindices\u001b[0m \u001b[0;34m-\u001b[0m \u001b[0mwidth\u001b[0m\u001b[0;34m/\u001b[0m\u001b[0;36m2\u001b[0m\u001b[0;34m,\u001b[0m \u001b[0mdata\u001b[0m\u001b[0;34m[\u001b[0m\u001b[0;34m\"Máquina A\"\u001b[0m\u001b[0;34m]\u001b[0m\u001b[0;34m,\u001b[0m \u001b[0mwidth\u001b[0m\u001b[0;34m,\u001b[0m \u001b[0mlabel\u001b[0m\u001b[0;34m=\u001b[0m\u001b[0;34m\"Máquina A\"\u001b[0m\u001b[0;34m)\u001b[0m\u001b[0;34m\u001b[0m\u001b[0;34m\u001b[0m\u001b[0m\n",
            "\u001b[0;31mNameError\u001b[0m: name 'data' is not defined"
          ]
        }
      ]
    },
    {
      "cell_type": "code",
      "source": [
        "# boxplot\n",
        "plt.boxplot([data[\"Máquina A\"], data[\"Máquina B\"]], labels=[\"Máquina A\", \"Máquina B\"])\n",
        "plt.show()"
      ],
      "metadata": {
        "id": "sBzBLN1PJo60"
      },
      "execution_count": null,
      "outputs": []
    },
    {
      "cell_type": "code",
      "source": [
        "# Histograma\n",
        "plt.hist(data[\"Máquina A\"], bins=10, alpha=0.5, label=\"Máquina A\")\n",
        "plt.hist(data[\"Máquina B\"], bins=10, alpha=0.5, label=\"Máquina B\")\n",
        "plt.show()"
      ],
      "metadata": {
        "id": "PhzgT4y2Jklh"
      },
      "execution_count": null,
      "outputs": []
    },
    {
      "cell_type": "code",
      "source": [
        "# Scatter\n",
        "plt.scatter(range(len(data)), data[\"Máquina A\"], label=\"Máquina A\", marker='o')\n",
        "plt.scatter(range(len(data)), data[\"Máquina B\"], label=\"Máquina B\", marker='x')\n",
        "plt.show()"
      ],
      "metadata": {
        "id": "yCTxjv2_Jhq6"
      },
      "execution_count": null,
      "outputs": []
    },
    {
      "cell_type": "markdown",
      "source": [
        "# Qualitativos"
      ],
      "metadata": {
        "id": "2x7HIWmYJPDU"
      }
    },
    {
      "cell_type": "code",
      "source": [
        "# pareto\n",
        "# Primeiro, você precisa ordenar os valores e calcular as frequências cumulativas\n",
        "df = data['Máquina A'].value_counts().sort_values(ascending=False).reset_index()\n",
        "df['cumulative_percentage'] = df['Máquina A'].cumsum() / df['Máquina A'].sum() * 100\n",
        "\n",
        "# Criar o gráfico de Pareto\n",
        "fig, ax1 = plt.subplots()\n",
        "\n",
        "# Barras para as frequências\n",
        "ax1.bar(df['index'], df['Máquina A'], color='blue')\n",
        "ax1.set_xlabel('Valores')\n",
        "ax1.set_ylabel('Frequência', color='blue')\n",
        "ax1.tick_params('y', labelcolor='blue')\n",
        "\n",
        "# Linha para a porcentagem acumulada\n",
        "ax2 = ax1.twinx()\n",
        "ax2.plot(df['index'], df['cumulative_percentage'], color='red', marker='o')\n",
        "ax2.set_ylabel('Porcentagem Acumulada (%)', color='red')\n",
        "ax2.tick_params('y', labelcolor='red')\n",
        "\n",
        "plt.title('Gráfico de Pareto para Máquina A')\n",
        "plt.grid(True)\n",
        "plt.show()"
      ],
      "metadata": {
        "id": "Gh1bp_7aJMjW"
      },
      "execution_count": null,
      "outputs": []
    },
    {
      "cell_type": "code",
      "source": [
        "# Coluna\n",
        "plt.bar(data.index, data['Máquina A'], label='Máquina A')  # data.index pode ser substituído por rótulos se você tiver\n",
        "plt.xlabel('Índice') # Substitua pelo seu rótulo do eixo x\n",
        "plt.ylabel('Valores')\n",
        "plt.title('Gráfico de Colunas para Máquina A')\n",
        "plt.legend()\n",
        "plt.show()"
      ],
      "metadata": {
        "id": "1E4nWBGdJTOj"
      },
      "execution_count": null,
      "outputs": []
    },
    {
      "cell_type": "code",
      "source": [
        "# Setores\n",
        "# Assumindo que você queira um gráfico de setores com base nas frequências de 'Máquina A'\n",
        "frequencias = data['Máquina A'].value_counts()\n",
        "plt.pie(frequencias, labels=frequencias.index, autopct='%1.1f%%', startangle=90)\n",
        "plt.title('Gráfico de Setores para Máquina A')\n",
        "plt.show()"
      ],
      "metadata": {
        "id": "_CMDYUaIJWVU"
      },
      "execution_count": null,
      "outputs": []
    },
    {
      "cell_type": "code",
      "source": [
        "# Coluna Empilhado\n",
        "plt.bar(data.index, data['Máquina A'], label='Máquina A')\n",
        "plt.bar(data.index, data['Máquina B'], bottom=data['Máquina A'], label='Máquina B')  # Empilhando Máquina B sobre Máquina A\n",
        "plt.xlabel('Índice')\n",
        "plt.ylabel('Valores')\n",
        "plt.title('Gráfico de Coluna Empilhado')\n",
        "plt.legend()\n",
        "plt.show()"
      ],
      "metadata": {
        "id": "s287_zrbJYcq"
      },
      "execution_count": null,
      "outputs": []
    },
    {
      "cell_type": "code",
      "source": [
        "# Coluna 100% empilhado\n",
        "total = data['Máquina A'] + data['Máquina B']\n",
        "plt.bar(data.index, data['Máquina A'] / total, label='Máquina A')\n",
        "plt.bar(data.index, data['Máquina B'] / total, bottom=data['Máquina A'] / total, label='Máquina B')  # Empilhando e normalizando para 100%\n",
        "plt.xlabel('Índice')\n",
        "plt.ylabel('Porcentagem (%)')\n",
        "plt.title('Gráfico de Coluna 100% Empilhado')\n",
        "plt.legend()\n",
        "plt.show()"
      ],
      "metadata": {
        "id": "Rp3kAYo-JbJU"
      },
      "execution_count": null,
      "outputs": []
    },
    {
      "cell_type": "markdown",
      "source": [
        "# Análise Exploratória dos dados"
      ],
      "metadata": {
        "id": "6Jv7ttO1IsCh"
      }
    },
    {
      "cell_type": "code",
      "source": [
        "import numpy as np\n",
        "from scipy import stats\n",
        "import statistics\n",
        "\n",
        "# Exemplo de amostra de dados\n",
        "amostra = np.array([753, 751, 752, 753, 753, 752, 753, 754, 754, 752,753, 751, 752, 750, 753, 755, 753, 756, 751, 750])\n",
        "\n",
        "# exmplo de filtro\n",
        "q1 = np.percentile(amostra, 25)\n",
        "q3 = np.percentile(amostra, 75)\n",
        "iqr = q3 - q1\n",
        "lower_bound = q1 - 1.5 * iqr\n",
        "upper_bound = q3 + 1.5 * iqr\n",
        "filtered_data = amostra[(amostra >= lower_bound) & (amostra <= upper_bound)]\n",
        "\n",
        "n = 20\n",
        "\n",
        "# Média\n",
        "media = np.mean(amostra)\n",
        "\n",
        "# Mediana\n",
        "mediana = np.median(amostra)\n",
        "\n",
        "# Moda\n",
        "moda = statistics.mode(amostra)\n",
        "\n",
        "# Variância\n",
        "variancia = np.var(amostra, ddof=1)\n",
        "\n",
        "# Desvio Padrão\n",
        "desvio_padrao = np.std(amostra, ddof=1)\n",
        "\n",
        "# Coeficiente de Variação (CV)\n",
        "cv = (desvio_padrao / media) * 100\n",
        "\n",
        "# Mínimo\n",
        "minimo = np.min(amostra)\n",
        "\n",
        "# 1° Quartil (Q1)\n",
        "primeiro_quartil = np.percentile(amostra, 25)\n",
        "\n",
        "# 3° Quartil (Q3)\n",
        "terceiro_quartil = np.percentile(amostra, 75)\n",
        "\n",
        "iqr = terceiro_quartil - primeiro_quartil\n",
        "\n",
        "# Máximo\n",
        "maximo = np.max(amostra)\n",
        "\n",
        "# Amplitude\n",
        "amplitude = maximo - minimo\n",
        "\n",
        "\n",
        "# Exibir resultados\n",
        "print(f\"Média: {media}\")\n",
        "print(f\"Mediana: {mediana}\")\n",
        "print(f\"Moda: {moda}\")\n",
        "print(f\"Variância: {variancia}\")\n",
        "print(f\"Desvio Padrão: {desvio_padrao}\")\n",
        "print(f\"Coeficiente de Variação (CV): {cv}%\")\n",
        "print(f\"Mínimo: {minimo}\")\n",
        "print(f\"1° Quartil (Q1): {primeiro_quartil}\")\n",
        "print(f\"3° Quartil (Q3): {terceiro_quartil}\")\n",
        "print(f\"Máximo: {maximo}\")\n",
        "print(f\"Amplitude: {amplitude}\")\n",
        "print(f\"Iqr: {iqr}\")\n",
        "\n",
        "# Regra dos 5\n",
        "print(f\"Mínimo: {minimo}\")\n",
        "print(f\"1° Quartil (Q1): {primeiro_quartil}\")\n",
        "print(f\"Mediana: {mediana}\")\n",
        "print(f\"3° Quartil (Q3): {terceiro_quartil}\")\n",
        "print(f\"Máximo: {maximo}\")\n"
      ],
      "metadata": {
        "trusted": true,
        "colab": {
          "base_uri": "https://localhost:8080/"
        },
        "id": "vsTD35hDIsCi",
        "outputId": "4d94ab1a-3632-4004-a836-7257a1b63411"
      },
      "outputs": [
        {
          "output_type": "stream",
          "name": "stdout",
          "text": [
            "Média: 752.55\n",
            "Mediana: 753.0\n",
            "Moda: 753\n",
            "Variância: 2.365789473684211\n",
            "Desvio Padrão: 1.538112308540638\n",
            "Coeficiente de Variação (CV): 0.20438672626943566%\n",
            "Mínimo: 750\n",
            "1° Quartil (Q1): 751.75\n",
            "3° Quartil (Q3): 753.0\n",
            "Máximo: 756\n",
            "Amplitude: 6\n",
            "Iqr: 1.25\n"
          ]
        }
      ],
      "execution_count": 4
    },
    {
      "cell_type": "markdown",
      "source": [
        "# Distribuições"
      ],
      "metadata": {
        "id": "7MjZmVUEIsCj"
      }
    },
    {
      "cell_type": "code",
      "source": [
        "#normal\n",
        "# Parâmetros\n",
        "mu = media     # média\n",
        "sigma = desvio_padrao  # desvio padrão\n",
        "min_value = 740\n",
        "max_value = 760\n",
        "\n",
        "# Geração de valores\n",
        "normal = np.random.normal(media, desvio_padrao, n)\n",
        "\n",
        "# Plot\n",
        "plt.hist(normal, bins=n, density=True, alpha=1, color='blue')\n",
        "plt.xlim([min_value, max_value])\n",
        "plt.title(\"Distribuição Normal\")\n",
        "plt.show()"
      ],
      "metadata": {
        "trusted": true,
        "colab": {
          "base_uri": "https://localhost:8080/",
          "height": 452
        },
        "id": "R5Wq9SN8IsCj",
        "outputId": "0c62f0b6-3cda-43f2-ebac-7356e7cf3bac"
      },
      "outputs": [
        {
          "output_type": "display_data",
          "data": {
            "text/plain": [
              "<Figure size 640x480 with 1 Axes>"
            ],
            "image/png": "[encoded data removed]"
          },
          "metadata": {}
        }
      ],
      "execution_count": null
    },
    {
      "cell_type": "code",
      "source": [
        "#exponencial\n",
        "# Parâmetro\n",
        "lambda_param = 1  # taxa (1/média)\n",
        "\n",
        "# Geração de valores\n",
        "exponencial = np.random.exponential(1 / lambda_param, tamanho_amostra)\n",
        "\n",
        "# Plot\n",
        "plt.hist(exponencial, bins=30, density=True, alpha=0.6, color='orange')\n",
        "plt.title(\"Distribuição Exponencial\")\n",
        "plt.show()\n"
      ],
      "metadata": {
        "trusted": true,
        "id": "PFp-90tnIsCj"
      },
      "outputs": [],
      "execution_count": null
    },
    {
      "cell_type": "code",
      "source": [
        "#uniforme\n",
        "# Parâmetros\n",
        "a = 0   # limite inferior\n",
        "b = 10  # limite superior\n",
        "\n",
        "# Gerar amostras de uma distribuição uniforme\n",
        "uniform_samples = np.random.uniform(a, b, 1000)\n",
        "\n",
        "# Cálculo de probabilidade e densidade\n",
        "from scipy.stats import uniform\n",
        "x = 5\n",
        "probabilidade = uniform.cdf(x, loc=a, scale=b - a)\n",
        "densidade = uniform.pdf(x, loc=a, scale=b - a)\n"
      ],
      "metadata": {
        "trusted": true,
        "id": "HWGJoHJYIsCk"
      },
      "outputs": [],
      "execution_count": null
    },
    {
      "cell_type": "code",
      "source": [
        "#binomial\n",
        "# Parâmetros\n",
        "n = 10  # número de tentativas\n",
        "p = 0.5 # probabilidade de sucesso\n",
        "\n",
        "# Gerar amostras de uma distribuição binomial\n",
        "binom_samples = np.random.binomial(n, p, 1000)\n",
        "\n",
        "# Cálculo de probabilidade\n",
        "from scipy.stats import binom\n",
        "k = 5  # número de sucessos\n",
        "probabilidade = binom.cdf(k, n, p)   # P(X <= k)\n",
        "densidade = binom.pmf(k, n, p)       # Probabilidade de exatamente k sucessos\n"
      ],
      "metadata": {
        "trusted": true,
        "id": "b5YV-kHWIsCk"
      },
      "outputs": [],
      "execution_count": null
    },
    {
      "cell_type": "code",
      "source": [
        "#poisson\n",
        "# Parâmetro\n",
        "lambd = 3  # taxa média de eventos\n",
        "\n",
        "# Gerar amostras de uma distribuição Poisson\n",
        "poisson_samples = np.random.poisson(lambd, 1000)\n",
        "\n",
        "# Cálculo de probabilidade\n",
        "from scipy.stats import poisson\n",
        "k = 5  # número de eventos\n",
        "probabilidade = poisson.cdf(k, lambd)  # P(X <= k)\n",
        "densidade = poisson.pmf(k, lambd)      # Probabilidade de exatamente k eventos\n"
      ],
      "metadata": {
        "trusted": true,
        "id": "DPYHCGs3IsCk"
      },
      "outputs": [],
      "execution_count": null
    },
    {
      "cell_type": "markdown",
      "source": [
        "# Regressão"
      ],
      "metadata": {
        "id": "iC_tFXyxIsCl"
      }
    },
    {
      "cell_type": "code",
      "source": [
        "from sklearn.linear_model import LinearRegression\n",
        "\n",
        "# Example data\n",
        "X = np.array([[1], [2], [3], [4], [5]])  # Feature (independent variable)\n",
        "y = np.array([1.5, 2.3, 3.2, 4.1, 5.0])  # Target (dependent variable)\n",
        "\n",
        "# Initialize the model\n",
        "model = LinearRegression()\n",
        "\n",
        "# Fit the model\n",
        "model.fit(X, y)\n",
        "\n",
        "# Coefficient (slope)\n",
        "slope = model.coef_[0]\n",
        "\n",
        "# Intercept\n",
        "intercept = model.intercept_\n",
        "\n",
        "# Predict values\n",
        "y_pred = model.predict(X)\n",
        "\n",
        "# Display results\n",
        "print(f\"Slope (Coefficient): {slope}\")\n",
        "print(f\"Intercept: {intercept}\")\n",
        "print(f\"Predicted values: {y_pred}\")\n",
        "\n",
        "# Scatter plot of original data\n",
        "plt.scatter(X, y, color='blue', label='Data')\n",
        "\n",
        "# Plot the regression line\n",
        "plt.plot(X, y_pred, color='red', label='Regression Line')\n",
        "\n",
        "# Add labels and title\n",
        "plt.xlabel('X')\n",
        "plt.ylabel('y')\n",
        "plt.title('Linear Regression')\n",
        "\n",
        "# Show legend\n",
        "plt.legend()\n",
        "\n",
        "# Display the plot\n",
        "plt.show()\n"
      ],
      "metadata": {
        "trusted": true,
        "colab": {
          "base_uri": "https://localhost:8080/",
          "height": 530
        },
        "id": "S3bFsP4RIsCl",
        "outputId": "03421fe0-e646-48e4-c9bb-b9103572dbb7"
      },
      "outputs": [
        {
          "output_type": "stream",
          "name": "stdout",
          "text": [
            "Slope (Coefficient): 0.8800000000000003\n",
            "Intercept: 0.5799999999999992\n",
            "Predicted values: [1.46 2.34 3.22 4.1  4.98]\n"
          ]
        },
        {
          "output_type": "display_data",
          "data": {
            "text/plain": [
              "<Figure size 640x480 with 1 Axes>"
            ],
            "image/png": "[encoded data removed]"
          },
          "metadata": {}
        }
      ],
      "execution_count": null
    },
    {
      "cell_type": "markdown",
      "source": [
        "# Teste de coerência\n"
      ],
      "metadata": {
        "id": "gyHre5YLlGtv"
      }
    },
    {
      "cell_type": "code",
      "source": [
        "def teste_qui_quadrado(data, col1, col2):\n",
        "    contingency_table = pd.crosstab(data[col1], data[col2])\n",
        "    chi2, p, dof, expected = stats.chi2_contingency(contingency_table)\n",
        "\n",
        "    result = {\n",
        "        'chi2': chi2,\n",
        "        'p-value': p,\n",
        "        'degrees_of_freedom': dof,\n",
        "        'expected_frequencies': expected\n",
        "    }\n",
        "    return result\n",
        "\n",
        "\n",
        "def pearson_correlation_test(data1, data2):\n",
        "\n",
        "  correlation_coefficient, p_value = stats.pearsonr(data1, data2)\n",
        "  results = {\n",
        "      'correlation_coefficient': correlation_coefficient,\n",
        "      'p_value': p_value\n",
        "  }\n",
        "  return results\n",
        "\n",
        "\n",
        "def calculate_zscores_check_normality(data):\n",
        "  media = np.mean(data)\n",
        "  desvio_padrao = np.std(data)\n",
        "  n = len(data)\n",
        "  x = np.zeros(n)\n",
        "\n",
        "  is_normal = True  # Assume data is normal initially\n",
        "\n",
        "  for i in range(n):\n",
        "    x[i] = (data[i] - media) / desvio_padrao\n",
        "    if x[i] < -3 or x[i] > 3:\n",
        "      is_normal = False  # Data is not normal if any Z-score is outside the 3-sigma range\n",
        "\n",
        "  return x, is_normal\n",
        "\n",
        "def calculate_pearson_assimetria(data):\n",
        "  media = np.mean(data)\n",
        "  mediana = np.median(data)\n",
        "  desvio_padrao = np.std(data)\n",
        "\n",
        "  skewness = 3 * ((media - mediana) / desvio_padrao)\n",
        "  return skewness\n",
        "\n",
        "# Assuming you have your data in a list or numpy array:\n",
        "amostra = np.array([753, 751, 752, 753, 753, 752, 753, 754, 754, 752, 753, 751, 752, 750, 753, 755, 753, 756, 751, 750])\n",
        "\n",
        "# Calculate Z-scores and check for normality\n",
        "zscores, is_normal = calculate_zscores_check_normality(amostra)\n",
        "print(\"Z-scores:\", zscores)\n",
        "print(\"Is data normal?\", is_normal)\n",
        "\n",
        "# Calculate Pearson's skewness\n",
        "skewness = calculate_pearson_assimetria(amostra)\n",
        "print(\"Pearson's skewness:\", skewness)"
      ],
      "metadata": {
        "id": "5M38GhuolFv4",
        "outputId": "3c51d525-80b2-47c4-dc1d-e89d02593054",
        "colab": {
          "base_uri": "https://localhost:8080/"
        }
      },
      "execution_count": 5,
      "outputs": [
        {
          "output_type": "stream",
          "name": "stdout",
          "text": [
            "Z-scores: [ 0.30016681 -1.03390789 -0.36687054  0.30016681  0.30016681 -0.36687054\n",
            "  0.30016681  0.96720415  0.96720415 -0.36687054  0.30016681 -1.03390789\n",
            " -0.36687054 -1.70094523  0.30016681  1.6342415   0.30016681  2.30127884\n",
            " -1.03390789 -1.70094523]\n",
            "Is data normal? True\n",
            "Pearson's skewness: -0.9005004170529356\n"
          ]
        }
      ]
    }
  ]
}